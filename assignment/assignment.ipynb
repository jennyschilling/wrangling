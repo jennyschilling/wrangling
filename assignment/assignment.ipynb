{
  "cells": [
    {
      "cell_type": "markdown",
      "id": "13ad028b-72b7-43ed-aa78-96fd4e518040",
      "metadata": {
        "id": "13ad028b-72b7-43ed-aa78-96fd4e518040"
      },
      "source": [
        "# Assignment: Data Wrangling\n",
        "## `! git clone https://github.com/DS3001/wrangling`\n",
        "## Do Q2, and one of Q1 or Q3."
      ]
    },
    {
      "cell_type": "code",
      "source": [
        "import pandas as pd\n",
        "import numpy as np\n",
        "import seaborn as sns"
      ],
      "metadata": {
        "id": "rjGHGu3JBf8n"
      },
      "id": "rjGHGu3JBf8n",
      "execution_count": 1,
      "outputs": []
    },
    {
      "cell_type": "code",
      "source": [
        "! git clone https://github.com/jennyschilling/wrangling"
      ],
      "metadata": {
        "colab": {
          "base_uri": "https://localhost:8080/"
        },
        "id": "aGE6ditoGAfy",
        "outputId": "93d2c156-e30d-46d4-f97f-3d6fe3c1cd42"
      },
      "id": "aGE6ditoGAfy",
      "execution_count": 2,
      "outputs": [
        {
          "output_type": "stream",
          "name": "stdout",
          "text": [
            "fatal: destination path 'wrangling' already exists and is not an empty directory.\n"
          ]
        }
      ]
    },
    {
      "cell_type": "markdown",
      "source": [
        "# Question 1"
      ],
      "metadata": {
        "id": "PzR8N3KOIEKV"
      },
      "id": "PzR8N3KOIEKV"
    },
    {
      "cell_type": "markdown",
      "id": "5735a4d4-8be8-433a-a351-70eb8002e632",
      "metadata": {
        "id": "5735a4d4-8be8-433a-a351-70eb8002e632"
      },
      "source": [
        "**Q1.** Open the \"tidy_data.pdf\" document in the repo, which is a paper called Tidy Data by Hadley Wickham.\n",
        "\n",
        "  1. Read the abstract. What is this paper about?\n",
        "  > The importance of the proccess of data cleaning cannot be understated, so we want to make it as easy and efficient as we can. This paper addresses this challenge of data cleaning and organization, and introduces the concept of \"tidy data\" that simplifies this process.\n",
        "  2. Read the introduction. What is the \"tidy data standard\" intended to accomplish?\n",
        "  > When analysing real-world datasets, we often see that the limited constraints and regulations on the construction of datasets leave them crafted in weird and incosistent ways. The \"tidy data standard\" is intended to give a consistent method for organizing data to make data analysis and statistical modeling more efficient, eliminating the need for data scientists to \"reinvent the wheel\" every time they go to clean data.\n",
        "  3. Read the intro to section 2. What does this sentence mean: \"Like families, tidy datasets are all alike but every messy dataset is messy in its own way.\" What does this sentence mean: \"For a given dataset, it’s usually easy to figure out what are observations and what are variables, but it is surprisingly difficult to precisely define variables and observations in general.\"\n",
        "  > The first sentence means that since tidy datasets follow a uniform structure, they are standardized and therefore easy to predict the structure of and clean/manipulate. In contrast, every messy dataset has its own unique set of issues, and so we can't predict what these issues will be or what the extend of the issues are when we choose to use the dataset. Going along with this, the second sentence is talking about how identifying the variables and observations is intuitive in most datasets, but actually defining them can be challenging. I.e., it is easier to describe the relationships between actual variables than between rows of a datset, and to make comparisons between groups of observations than just groups of columns.\n",
        "  4. Read Section 2.2. How does Wickham define values, variables, and observations?\n",
        "  > Wickham defines values as the actual data in our dataset, variables as all those values that measure the same underlying attribute, and observations as all the values that are measured on the same unit across attributes.\n",
        "  5. How is \"Tidy Data\" defined in section 2.3?\n",
        "  > Tidy Data is defined in section 2.3 as a standardized way of mapping the meaning of a dataset to its structure. This standardized method is characterized by each variable forming a column,  each observation forming a row, and each type of observational unit forming a table.\n",
        "  6. Read the intro to Section 3 and Section 3.1. What are the 5 most common problems with messy datasets? Why are the data in Table 4 messy? What is \"melting\" a dataset?\n",
        "  > The five most common problems with messy datasets are: (1) Column headers are values, not variable names. (2) Multiple variables are stored in one column. (3) Variables are stored in both rows and columns. (4) Multiple types of observational units are stored in the same table. (5) A single observational unit is stored in multiple tables.\n",
        "  > In Table 4, the data is designed for presentation, with variables forming both the rows and columns, and the column headers being the values, not variable names. This table can be tidied by \"melting\" it, which includes turning the columns, or colvars, into rows.\n",
        "  7. Why, specifically, is table 11 messy but table 12 tidy and \"molten\"?\n",
        "  > Table 11 is messy because it presents the days as column headers, representing values. Table 12 is molten because although it converts these days into a single date variable, it still is unorganized in terms of tidiness since the element variable represents variable names rather than actual values.\n",
        "  8. Read Section 6. What is the \"chicken-and-egg\" problem with focusing on tidy data? What does Wickham hope happens in the future with further work on the subject of data wrangling?\n",
        "  > The \"chicken-and-egg\" problem with tidy data is that our \"tidy data\" is only really as useful as the tools that we have to work with it, so the application of tidy tools is really just superficial and, in a sense, orchestrated by marketing schemes. Wickham hopes that a more expansive approach to data cleaning comes to fruition, as well as a vaster and sturdier framework of the ideas and tools that make up the domain of data science."
      ]
    },
    {
      "cell_type": "markdown",
      "source": [
        "# Question 2"
      ],
      "metadata": {
        "id": "Nt2GjtarIAy8"
      },
      "id": "Nt2GjtarIAy8"
    },
    {
      "cell_type": "markdown",
      "id": "da879ea7-8aac-48a3-b6c2-daea56d2e072",
      "metadata": {
        "id": "da879ea7-8aac-48a3-b6c2-daea56d2e072"
      },
      "source": [
        "**Q2.** This question provides some practice cleaning variables which have common problems.\n",
        "1. Numeric variable: For `./data/airbnb_hw.csv`, clean the `Price` variable as well as you can, and explain the choices you make. How many missing values do you end up with? (Hint: What happens to the formatting when a price goes over 999 dollars, say from 675 to 1,112?)"
      ]
    },
    {
      "cell_type": "markdown",
      "source": [
        "The issue with this variable is that when the price goes over 999, commas are introduced to the string, so we can't convert the prices from strings to floats/numerical values. To fix this, we can just remove all the commas from the prices and then convert the prices from strings to floats."
      ],
      "metadata": {
        "id": "I_KeO1PIJyQa"
      },
      "id": "I_KeO1PIJyQa"
    },
    {
      "cell_type": "code",
      "source": [
        "# Part 1: Numeric Variable\n",
        "df = pd.read_csv('wrangling/assignment/data/airbnb_hw.csv',low_memory=False)\n",
        "prices = df['Price']\n",
        "prices = prices.str.replace(',', '')\n",
        "prices = pd.to_numeric(prices)\n",
        "df['Price'] = prices\n",
        "del prices\n",
        "# print(df['Price'].unique())"
      ],
      "metadata": {
        "colab": {
          "base_uri": "https://localhost:8080/"
        },
        "id": "KNnh5D4ICH5z",
        "outputId": "6769d999-177a-419d-cd9e-06c95a72a6e0"
      },
      "id": "KNnh5D4ICH5z",
      "execution_count": 13,
      "outputs": [
        {
          "output_type": "stream",
          "name": "stdout",
          "text": [
            "[  145    37    28   199   549   149   250    90   270   290   170    59\n",
            "    49    68   285    75   100   150   700   125   175    40    89    95\n",
            "    99   499   120    79   110   180   143   230   350   135    85    60\n",
            "    70    55    44   200   165   115    74    84   129    50   185    80\n",
            "   190   140    45    65   225   600   109  1990    73   240    72   105\n",
            "   155   160    42   132   117   295   280   159   107    69   239   220\n",
            "   399   130   375   585   275   139   260    35   133   300   289   179\n",
            "    98   195    29    27    39   249   192   142   169  1000   131   138\n",
            "   113   122   329   101   475   238   272   308   126   235   315   248\n",
            "   128    56   207   450   215   210   385   445   136   247   118    77\n",
            "    76    92   198   205   299   222   245   104   153   349   114   320\n",
            "   292   226   420   500   325   307    78   265   108   123   189    32\n",
            "    58    86   219   800   335    63   229   425    67    87  1200   158\n",
            "   650   234   310   695   400   166   119    62   168   340   479    43\n",
            "   395   144    52    47   529   187   209   233    82   269   163   172\n",
            "   305   156   550   435   137   124    48   279   330  5000   134   378\n",
            "    97   277    64   193   147   186   264    30  3000   112    94   379\n",
            "    57   415   236   410   214    88    66    71   171   157   545  1500\n",
            "    83    96  1800    81   188   380   255   505    54    33   174    93\n",
            "   740   640  1300   440   599   357  1239   495   127  5999   178   348\n",
            "   152   242   183   253   750   259   365   273   197   397   103   389\n",
            "   355   559    38   203   999   141   162   333   698    46   360   895\n",
            "    10    41   206   281   449   388   212   102   201  2750  4750   432\n",
            "   675   167   390   298   339   194   302   211   595   191    53   361\n",
            "   480  8000  4500   459   997   345   216   218   111   735   276    91\n",
            "   490   850   398    36   775   267   625   336  2500   176   725  3750\n",
            "   469   106   460   287   575   227   263    25   228   208   177   880\n",
            "   148   116   685   470   217   164    61   645   699   405   252   319\n",
            "   268   419   343   525   311   840   154   294   950   409   184   257\n",
            "   204   241  2000   412   121   288   196   900   647   524  1750   309\n",
            "   510  1495  1700   799   383   372   492   327  1999   656   224   173\n",
            "   875  1170   795   690   146   465  1100   151   274   429   825   282\n",
            "   256  1111   620   271   161    51   855   579  1174   430    20   899\n",
            "   649   485   181   455  4000   243   342   590   560   374   437   232\n",
            "   359   985    31   244   254   723   237   428   370    34  1400   580\n",
            "  2520   221   749  1600  2695   306   202   680   570   520   223  2295\n",
            "   213  1065   346    24   286   296   266    26   995  1368   393   182\n",
            "   635   258   780   589   347  1250  1350   446  3200  1050  1650  1550\n",
            "   975   323  6500  2499  1850  2250   715   461   540   356   439   384\n",
            "   569  1900    22   785   626   830   318   444   321   401  1499   888\n",
            "   369   770   386   366   344   630   313   597   262   509 10000   278\n",
            "   312   789  1195   422    21   765  3500   945   326  3100  2486  3390\n",
            "  1356  2599   472   454   328   396   291]\n"
          ]
        }
      ]
    },
    {
      "cell_type": "markdown",
      "source": [
        "2. Categorical variable: For the `./data/sharks.csv` data covered in the lecture, clean the \"Type\" variable as well as you can, and explain the choices you make.\n",
        "\n",
        "The \"Type\" variable has several issues within its rows. Firstly, the types \"Sea Disaster\", \"Watercraft\", \"Boat\", and \"Boating\" could be put into the same category. Similarly, \"Invalid\", \"Questionable\", \"Unconfirmed\", \"Unverified\", and \"Under investigation\" could all be put into the same category as nan objects since they're all unknown attack types and may as well be void. There is also a category with just one entry called \"Boatomg\", which is likely a typo and should be put into the category with water accidents."
      ],
      "metadata": {
        "id": "y8sL9lYpLnGQ"
      },
      "id": "y8sL9lYpLnGQ"
    },
    {
      "cell_type": "code",
      "source": [
        "# Part 2: Categorical Variable\n",
        "df = pd.read_csv('wrangling/assignment/data/sharks.csv', low_memory=False)\n",
        "types = df['Type']\n",
        "types = types.replace(['Watercraft', 'Boat','Boating','Boatomg'],'Sea Disaster')\n",
        "types = types.replace(['Invalid', 'Questionable','Unconfirmed','Unverified','Under investigation'],np.nan)\n",
        "df['Type'] = types\n",
        "del types\n",
        "# df['Type'].value_counts()"
      ],
      "metadata": {
        "id": "T1zDbzc4MFIX"
      },
      "id": "T1zDbzc4MFIX",
      "execution_count": 14,
      "outputs": []
    },
    {
      "cell_type": "markdown",
      "source": [
        "3. Dummy variable: For the pretrial data covered in the lecture, clean the `WhetherDefendantWasReleasedPretrial` variable as well as you can, and, in particular, replace missing values with `np.nan`.\n"
      ],
      "metadata": {
        "id": "wo7PS2RpLzGv"
      },
      "id": "wo7PS2RpLzGv"
    },
    {
      "cell_type": "code",
      "source": [
        "# Part 3: Dummy Variable\n",
        "df = pd.read_csv('wrangling/data/')"
      ],
      "metadata": {
        "id": "Ctm2ZqiyMBpZ"
      },
      "id": "Ctm2ZqiyMBpZ",
      "execution_count": null,
      "outputs": []
    },
    {
      "cell_type": "markdown",
      "source": [
        "4. Missing values, not at random: For the pretrial data covered in the lecture, clean the `ImposedSentenceAllChargeInContactEvent` variable as well as you can, and explain the choices you make. (Hint: Look at the `SentenceTypeAllChargesAtConvictionInContactEvent` variable.)"
      ],
      "metadata": {
        "id": "3yTaVmJjL1Jv"
      },
      "id": "3yTaVmJjL1Jv"
    },
    {
      "cell_type": "markdown",
      "source": [
        "To clean the ImposedSentenceAllChargeInContactEvent variable, I..."
      ],
      "metadata": {
        "id": "aMZbgfc6MIAg"
      },
      "id": "aMZbgfc6MIAg"
    },
    {
      "cell_type": "code",
      "source": [
        "# Part 4: Missing values, not at random\n"
      ],
      "metadata": {
        "id": "Na7iU0DGMNJe"
      },
      "id": "Na7iU0DGMNJe",
      "execution_count": null,
      "outputs": []
    }
  ],
  "metadata": {
    "colab": {
      "provenance": [],
      "toc_visible": true
    },
    "kernelspec": {
      "display_name": "Python 3 (ipykernel)",
      "language": "python",
      "name": "python3"
    },
    "language_info": {
      "codemirror_mode": {
        "name": "ipython",
        "version": 3
      },
      "file_extension": ".py",
      "mimetype": "text/x-python",
      "name": "python",
      "nbconvert_exporter": "python",
      "pygments_lexer": "ipython3",
      "version": "3.10.4"
    }
  },
  "nbformat": 4,
  "nbformat_minor": 5
}
